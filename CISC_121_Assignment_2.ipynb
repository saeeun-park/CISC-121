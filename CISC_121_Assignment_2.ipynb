{
  "cells": [
    {
      "cell_type": "markdown",
      "metadata": {
        "id": "view-in-github",
        "colab_type": "text"
      },
      "source": [
        "<a href=\"https://colab.research.google.com/github/saeeun-park/CISC-121/blob/main/CISC_121_Assignment_2.ipynb\" target=\"_parent\"><img src=\"https://colab.research.google.com/assets/colab-badge.svg\" alt=\"Open In Colab\"/></a>"
      ]
    },
    {
      "cell_type": "markdown",
      "metadata": {
        "id": "MRScbkLTN3Mc"
      },
      "source": [
        "# **CISC 121 - Section 001 – Assignment 2**\n",
        "*Please copy this notebook to your own drive (File -> Save a copy in Drive) and work from there.*"
      ]
    },
    {
      "cell_type": "markdown",
      "metadata": {
        "id": "87bcdc76"
      },
      "source": [
        "## Part 1\n",
        "### Solve all the 3 problems folloowing the template\n",
        "\n",
        "1. **Sum of Two Integers** — <https://leetcode.com/problems/sum-of-two-integers>\n",
        "2. **Convert Date to Binary** — <https://leetcode.com/problems/convert-date-to-binary>\n",
        "3. **Number of 1 Bits** — <https://leetcode.com/problems/number-of-1-bits>"
      ]
    },
    {
      "cell_type": "markdown",
      "metadata": {
        "id": "f960a31d"
      },
      "source": [
        "## Part 2\n",
        "### Solve 2 of the 3 problems from the followings following the given template\n",
        "\n",
        "1. **Reverse Integer** — <https://leetcode.com/problems/reverse-integer>\n",
        "2. **Reverse String** — <https://leetcode.com/problems/reverse-string>\n",
        "3. **Reverse Pairs** — <https://leetcode.com/problems/reverse-pairs>\n",
        "\n",
        "### Note: the problems are ordered by difficulty."
      ]
    },
    {
      "cell_type": "markdown",
      "metadata": {
        "id": "KGKqcY70N3Md"
      },
      "source": [
        "\n",
        "\n",
        "1. Your Name: Saeeun Park\n",
        "2. Section:\n",
        "3. ID:20558091\n",
        "4. Github or Colab link of this notebook:\n",
        "5. Links to Chats:\n"
      ]
    },
    {
      "cell_type": "markdown",
      "metadata": {
        "id": "creP6zY2Q96V"
      },
      "source": [
        "\n",
        "\n",
        "---\n",
        "\n"
      ]
    },
    {
      "cell_type": "markdown",
      "metadata": {
        "id": "rAwLuBzFZxf3"
      },
      "source": [
        "#  Problem 1 (DSA)\n",
        "\n",
        "\n"
      ]
    },
    {
      "cell_type": "markdown",
      "metadata": {
        "id": "r9EKMWjKIQP3"
      },
      "source": [
        "## 1. Understanding & Breakdown\n",
        "\n",
        "**AI Level 1** is allowed to understand the concept, but you need to sketch the problem down by yourself (Refer to the Syllabus for more details about AI use levels). **Must Provide AI Disclosures**\n",
        "\n",
        "\n",
        "### **Follow the below instruction according to the corresponding problem type**\n",
        "\n",
        "### **For both Parts (Both DSA & Recursion problems)**\n",
        "\n",
        "#### _Discuss the problem, using the pillars of Computation: Problem Decomposition, Pattern Recognition, Abstraction, and Algortihmic Thinking. For algorithmic thinking explain the inputs/outputs, constraints, and  draw the flowchart using digital or real pen-paper (For the flow chart only). Insert the image below._\n",
        "\n",
        "\n",
        "### **For Part 1 (Basic Data Structures and Algorithms Problems)**\n",
        "\n",
        "- For each, discuss:\n",
        "    - How are you dealing with variable datatypes?\n",
        "    - Which types of operations are being used and what for?\n",
        "    - Which Data collections (structures) are being used, and why? (comapre to others, e.g. lists, dictionaries, sets, tuples, etc.)\n",
        "    \n",
        "- Compare to the other two problems: which ideas generalize? where do they differ?\n",
        "    - Use abstraction and pattern recognition to find similarities\n",
        "    - Use problem decomposition and algortihmic tinking to identify differnces in term so the the solution\n",
        "\n",
        "\n",
        "### **For Part 2 (Recursion Problems)**\n",
        "\n",
        "- For each, discuss:\n",
        "    - What are the subproblems the recusrive function should solve?\n",
        "    - What the base case and recursive step should do?\n",
        "    - How the call stack will organize the recursive calls?\n",
        "    - Whether to use head, tail, parameterized, and/or functional recursion, and why?\n",
        "    - How are solutions to the subproblems to be combined?\n",
        "    \n",
        "- Compare to the other recursive problems  (similarities/differences)\n",
        "- Compare to an iterative solutions (e.g., how would a loop-based version differ?)\n",
        "- What needs to be changed for the recursive solution to become head/tail/parameterized/functional recursion\n",
        "\n",
        "\n",
        "\n",
        "\n",
        "\n",
        "**Your effort is more important than the accuracy for this section**\n",
        "\n",
        "Use the following markdown to provide your answer"
      ]
    },
    {
      "cell_type": "markdown",
      "metadata": {
        "id": "aUHzVrY4cTX0"
      },
      "source": [
        "## 2. Peer Review & Draft Code\n",
        "\n",
        "**Review Guidance:**  \n",
        "\n",
        "Visit the **\"Solutions\"** tab on LeetCode (the provided link above) for the selected problem and review at least one top-rated solution. You may also search for relevant discussions or Q&A threads on **Stack Overflow** or other forums to understand how others approached the problem.\n",
        "\n",
        "Then, write your own version based on what you understood. The goal is not to copy but to apply what you learned. Always include links to the resources you reviewed.\n",
        "\n",
        "---\n"
      ]
    },
    {
      "cell_type": "code",
      "execution_count": null,
      "metadata": {
        "id": "NPk65D2zciQV"
      },
      "outputs": [],
      "source": [
        "# Your draft code here (does not need to be fully correct)"
      ]
    },
    {
      "cell_type": "markdown",
      "metadata": {
        "id": "8R0ItLfmRKxp"
      },
      "source": [
        "---\n"
      ]
    },
    {
      "cell_type": "markdown",
      "metadata": {
        "id": "Om2fMRWLceyo"
      },
      "source": [
        "## 3. Final Correct Code\n",
        "\n",
        "_This version must pass all required test cases and handle edge cases correctly. Please provide screenshots from Leetcode_\n",
        "\n",
        "At this stage, you may:\n",
        "- Review solutions using AI tools (e.g., ChatGPT, GitHub Copilot) to add ***comments*** and error handeling, refine, improve, and if there are any, fix errors.\n",
        "    -   Tip: Use PROMPT and CoT methods\n",
        "- Refactor your draft to ensure accuracy, completeness, follow the Code Review checklist.\n",
        "\n",
        "### Don't forget to add comments!\n",
        "\n",
        " **AI Level 4 is allowed**, but you **must include a disclaimer** that clearly states what tools you used, how you used them, and for which part of the code.\n",
        "\n",
        "--------------"
      ]
    },
    {
      "cell_type": "code",
      "execution_count": null,
      "metadata": {
        "id": "CukQ_t3xcuDV"
      },
      "outputs": [],
      "source": [
        "# Final working solution\n",
        "# [AI Disclaimer example: Used ChatGPT with prompt “How to handle recursion base case” only for concept]\n"
      ]
    },
    {
      "cell_type": "markdown",
      "metadata": {
        "id": "n-a6rKrlUyQP"
      },
      "source": [
        "Add the screenshot of output for all the test cases from your working solutions."
      ]
    },
    {
      "cell_type": "markdown",
      "metadata": {
        "id": "CSVCLsPgROHs"
      },
      "source": [
        "---"
      ]
    },
    {
      "cell_type": "markdown",
      "metadata": {
        "id": "fJrDhzvMcxVN"
      },
      "source": [
        "## 4. Review & Fixes\n",
        "\n",
        "_What did you improve, optimize from your draft? 2 fixes with your comments._\n",
        "\n",
        "If there is no imporvments possible, please describe how the final version meets all the Code Review Checklist items\n",
        "\n",
        "-------\n",
        "\n"
      ]
    },
    {
      "cell_type": "code",
      "execution_count": null,
      "metadata": {
        "id": "tzEAjBgfMtod"
      },
      "outputs": [],
      "source": [
        "# Fix 1:\n",
        "\n",
        "# Draft version (e.g., manual and repetitive logic)\n",
        "\n",
        "# Fixed version (better structure, easier to understand, and more functional)\n"
      ]
    },
    {
      "cell_type": "code",
      "execution_count": null,
      "metadata": {
        "id": "ElfXHAqFMzQT"
      },
      "outputs": [],
      "source": [
        "# Fix 2:\n",
        "\n",
        "# Draft version:\n",
        "\n",
        "\n",
        "# Fixed version:\n"
      ]
    },
    {
      "cell_type": "markdown",
      "metadata": {
        "id": "9RoAwjXsRPvQ"
      },
      "source": [
        "---"
      ]
    },
    {
      "cell_type": "markdown",
      "metadata": {
        "id": "QfK-i2ITc4MU"
      },
      "source": [
        "\n",
        "## 5. Reflection on Your Contribution\n",
        "_Where did AI or Other's code helped or fail to help? What specific logic or debugging did you contribute yourself?_\n",
        "\n",
        "## Example\n",
        "1. I used ChatGPT (Level 4) to help identify an edge case where my draft code failed when the input string started with a closing bracket. I also used ChatGPT to help structure the final loop and mapping dictionary, but verified all logic myself by tracing the code.\n",
        "\n",
        "2.  I used ChatGPT to help write the loop. But the code had an indentation error after the `if` block, which caused it to fail. I fixed the spacing and made sure the code runs correctly.\n",
        "\n",
        "3. I used opensource code from Github. I found and fixed a logic bug where they used if s[i] == '(' or ')', which always returned True. I corrected it to properly check both conditions.\n"
      ]
    },
    {
      "cell_type": "markdown",
      "metadata": {
        "id": "AxxCiuXlBfSj"
      },
      "source": [
        "## Your answer:\n",
        "\n",
        "------"
      ]
    },
    {
      "cell_type": "markdown",
      "metadata": {
        "id": "xJk7l_CmRSQ9"
      },
      "source": [
        "->\n",
        "\n"
      ]
    },
    {
      "cell_type": "markdown",
      "metadata": {
        "id": "w2X7eha_N3Mg"
      },
      "source": [
        "-----------"
      ]
    },
    {
      "cell_type": "markdown",
      "metadata": {
        "id": "USwRg1coc-BO"
      },
      "source": [
        "#  Repeat this template for Problems 2–5\n",
        "You may copy-paste the above section 4 more times or duplicate cells in your notebook environment.\n",
        "\n",
        "Remember:\n",
        "Proper attribution  \n",
        "No copy-pasting from AI or others\n",
        "\n",
        "--------\n",
        "\n",
        "\n"
      ]
    },
    {
      "cell_type": "markdown",
      "source": [
        "# Problems 2 (DSA)\n",
        "----------"
      ],
      "metadata": {
        "id": "RVrlqim8SoDS"
      }
    },
    {
      "cell_type": "markdown",
      "source": [
        "--->"
      ],
      "metadata": {
        "id": "6P_AM1xgTTt0"
      }
    },
    {
      "cell_type": "markdown",
      "source": [
        "---------------"
      ],
      "metadata": {
        "id": "3KHIrOkFTScw"
      }
    },
    {
      "cell_type": "markdown",
      "source": [
        "# Problems 3 (DSA)\n",
        "\n",
        "------"
      ],
      "metadata": {
        "id": "CW2cb3O7S8Pn"
      }
    },
    {
      "cell_type": "markdown",
      "source": [
        "--->"
      ],
      "metadata": {
        "id": "eTxihTQ1TXwn"
      }
    },
    {
      "cell_type": "markdown",
      "source": [
        "------"
      ],
      "metadata": {
        "id": "rO2GcqUdTY9T"
      }
    },
    {
      "cell_type": "markdown",
      "source": [
        "# Problems 4 (Recursion)\n",
        "--------"
      ],
      "metadata": {
        "id": "7tQQGx41S-Le"
      }
    },
    {
      "cell_type": "markdown",
      "source": [
        "--->"
      ],
      "metadata": {
        "id": "0dJMmBiUS_ol"
      }
    },
    {
      "cell_type": "markdown",
      "source": [
        "------"
      ],
      "metadata": {
        "id": "oiP92F44TffW"
      }
    },
    {
      "cell_type": "markdown",
      "source": [
        "# Problems 5 (Recusrion)\n",
        "\n",
        "----"
      ],
      "metadata": {
        "id": "rM8MhcrjS_yF"
      }
    },
    {
      "cell_type": "markdown",
      "source": [
        "--->"
      ],
      "metadata": {
        "id": "huPf_Gy1Th3J"
      }
    },
    {
      "cell_type": "markdown",
      "source": [
        "------"
      ],
      "metadata": {
        "id": "Z2sT8zHjTivY"
      }
    },
    {
      "cell_type": "markdown",
      "metadata": {
        "id": "YR8usq_lVloZ"
      },
      "source": [
        "# **The most important part of writing code is not the code itself, but the thinking that leads to it. Thank You 😀**"
      ]
    }
  ],
  "metadata": {
    "colab": {
      "provenance": [],
      "include_colab_link": true
    },
    "kernelspec": {
      "display_name": "Python 3",
      "name": "python3"
    },
    "language_info": {
      "name": "python"
    },
    "title": "CISC 121 – Assignment 2"
  },
  "nbformat": 4,
  "nbformat_minor": 0
}